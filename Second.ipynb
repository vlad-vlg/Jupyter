{
 "cells": [
  {
   "cell_type": "markdown",
   "id": "cf1ab354-987d-4781-bdce-663eea2b9561",
   "metadata": {},
   "source": [
    "# Последовательность Фибоначчи"
   ]
  },
  {
   "cell_type": "code",
   "execution_count": 1,
   "id": "bf0ca871-6bb7-4ae4-80ba-a6a37aa50a14",
   "metadata": {},
   "outputs": [],
   "source": [
    "def fibonacci(sequence_length):\n",
    "    sequence = [0, 1]\n",
    "    if sequence_length < 1:\n",
    "        return('Последовательность Фибоначчи не может иметь длину, меньшую 1')\n",
    "    elif 1 <= sequence_length < 3:\n",
    "        return sequence[0: sequence_length]\n",
    "    for i in range(2, sequence_length):\n",
    "        sequence.append(sequence[i - 2] + sequence[i - 1])\n",
    "    return sequence\n",
    "    "
   ]
  },
  {
   "cell_type": "code",
   "execution_count": 2,
   "id": "fe13f6b8-4626-4028-a2b3-04f5bdde0848",
   "metadata": {},
   "outputs": [
    {
     "data": {
      "text/plain": [
       "[0, 1, 1, 2, 3, 5, 8, 13, 21, 34, 55, 89, 144, 233, 377]"
      ]
     },
     "execution_count": 2,
     "metadata": {},
     "output_type": "execute_result"
    }
   ],
   "source": [
    "fibonacci(15)"
   ]
  },
  {
   "cell_type": "code",
   "execution_count": 3,
   "id": "1df90b27-cb48-4ceb-b408-7b4df21e5a9e",
   "metadata": {},
   "outputs": [
    {
     "data": {
      "text/plain": [
       "[0, 1]"
      ]
     },
     "execution_count": 3,
     "metadata": {},
     "output_type": "execute_result"
    }
   ],
   "source": [
    "fibonacci(2)"
   ]
  },
  {
   "cell_type": "code",
   "execution_count": 5,
   "id": "baa8dcaa-9c82-4ebf-844f-ba79efa0b3e0",
   "metadata": {},
   "outputs": [
    {
     "name": "stdout",
     "output_type": "stream",
     "text": [
      "Последовательность Фибоначчи не может иметь длину, меньшую 1\n"
     ]
    }
   ],
   "source": [
    "fibonacci(0)"
   ]
  },
  {
   "cell_type": "code",
   "execution_count": null,
   "id": "ad878746-e856-408d-a706-ea423702196b",
   "metadata": {},
   "outputs": [],
   "source": []
  }
 ],
 "metadata": {
  "kernelspec": {
   "display_name": "Python 3 (ipykernel)",
   "language": "python",
   "name": "python3"
  },
  "language_info": {
   "codemirror_mode": {
    "name": "ipython",
    "version": 3
   },
   "file_extension": ".py",
   "mimetype": "text/x-python",
   "name": "python",
   "nbconvert_exporter": "python",
   "pygments_lexer": "ipython3",
   "version": "3.9.6"
  }
 },
 "nbformat": 4,
 "nbformat_minor": 5
}
