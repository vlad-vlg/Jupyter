{
 "cells": [
  {
   "cell_type": "markdown",
   "id": "9b747b38-11ef-4669-a54d-2df5a7903d71",
   "metadata": {},
   "source": [
    "#### Получаем список всех городов вылета "
   ]
  },
  {
   "cell_type": "code",
   "execution_count": 1,
   "id": "a0a44645-e3a0-4335-b322-430cdb8e8dc8",
   "metadata": {
    "scrolled": true
   },
   "outputs": [
    {
     "name": "stdout",
     "output_type": "stream",
     "text": [
      "['538625', 'Москва']\n",
      "['538993', 'Санкт-Петербург']\n",
      "['537937', 'Владикавказ']\n",
      "['537941', 'Волгоград']\n",
      "['538096', 'Екатеринбург']\n",
      "['538231', 'Казань']\n",
      "['538576', 'Махачкала']\n",
      "['538598', 'Минеральные воды']\n",
      "['538684', 'Нижний Новгород']\n",
      "['538729', 'Новосибирск']\n",
      "['538990', 'Самара']\n",
      "['539093', 'Сочи']\n",
      "['539136', 'Сургут']\n",
      "['539241', 'Тюмень']\n",
      "['539305', 'Уфа']\n",
      "['539321', 'Хабаровск']\n",
      "['539365', 'Челябинск']\n"
     ]
    }
   ],
   "source": [
    "import requests\n",
    "import xmltodict\n",
    "\n",
    "url_city = 'http://api.icstrvl.ru/tour-api/getDepartures.xml'\n",
    "data = xmltodict.parse(requests.get(url_city).content)\n",
    "city_array = []\n",
    "for item in data['result']['cities']['city']:\n",
    "    city_set = [item['@id'], item['@name']]\n",
    "    city_array.append(city_set)\n",
    "    print(city_set)"
   ]
  },
  {
   "cell_type": "markdown",
   "id": "30f9499d-6f9c-4b28-8295-e3d229702277",
   "metadata": {},
   "source": [
    "#### Получаем список стран, в которые есть актуальные туры. Если передан идентификатор города вылета, то список стран ограничивается теми странами, в которые возможен вылет из данного города."
   ]
  },
  {
   "cell_type": "code",
   "execution_count": 2,
   "id": "5b3b7ed4-f92f-4bf3-ac22-a48933c57c92",
   "metadata": {},
   "outputs": [
    {
     "name": "stdout",
     "output_type": "stream",
     "text": [
      "['2', 'ОАЭ', '1688817']\n",
      "['95', 'Таиланд', '3639153624']\n",
      "['1', 'Турция', '3077170065']\n"
     ]
    }
   ],
   "source": [
    "url_cnt = 'http://api.icstrvl.ru/tour-api/getCountries.xml?city=538729'\n",
    "data = xmltodict.parse(requests.get(url_cnt).content)\n",
    "cnt_array = []\n",
    "for item in data['result']['countries']['country']:\n",
    "    cnt_set = [item['@position'], item['@name'], item['@id']]\n",
    "    cnt_array.append(cnt_set)\n",
    "    print(cnt_set)\n"
   ]
  },
  {
   "cell_type": "markdown",
   "id": "e6db878b-4660-408c-a570-ff7b520c2291",
   "metadata": {},
   "source": [
    "#### Получаем список всех курортов выбранной страны"
   ]
  },
  {
   "cell_type": "code",
   "execution_count": 3,
   "id": "fd7889a0-bbb4-4de5-9da3-fe47af5911e7",
   "metadata": {},
   "outputs": [
    {
     "name": "stdout",
     "output_type": "stream",
     "text": [
      "['3990189229', 'Бангкок', '3639153624']\n",
      "['4013716016', 'Као Лак', '3639153624']\n",
      "['4013027602', 'Краби', '3639153624']\n",
      "['4016579248', 'о. Пхукет.', '3639153624']\n",
      "['4011405789', 'о. Пхукет. Бангтао', '3639153624']\n",
      "['4011410461', 'о. Пхукет. Камала', '3639153624']\n",
      "['4011411885', 'о. Пхукет. Карон', '3639153624']\n",
      "['4011233515', 'о. Пхукет. Ката', '3639153624']\n",
      "['4011788591', 'о. Пхукет. Майкао', '3639153624']\n",
      "['4485441712', 'о. Пхукет. Мыс Яму', '3639153624']\n",
      "['4011790740', 'о. Пхукет. Найтон', '3639153624']\n",
      "['4011233517', 'о. Пхукет. Найхарн', '3639153624']\n",
      "['4011513560', 'о. Пхукет. Найянг', '3639153624']\n",
      "['4399928462', 'о. Пхукет. Натай', '3639153624']\n",
      "['4011515990', 'о. Пхукет. Панва', '3639153624']\n",
      "['3724476655', 'о. Пхукет. Патонг', '3639153624']\n",
      "['4011516580', 'о. Пхукет. Равай', '3639153624']\n",
      "['4500216809', 'о. Пхукет. Рача', '3639153624']\n",
      "['4304915553', 'о. Пхукет. Сирай Бэй', '3639153624']\n",
      "['4011233514', 'о. Пхукет. Сурин', '3639153624']\n",
      "['4011517765', 'о. Пхукет. Три транг', '3639153624']\n",
      "['4011405792', 'о. Пхукет. Чалонг', '3639153624']\n",
      "['3990189228', 'о. Самуи', '3639153624']\n",
      "['3639206404', 'Паттайя', '3639153624']\n"
     ]
    }
   ],
   "source": [
    "url_resort = 'http://api.icstrvl.ru/tour-api/getResorts.xml?cnt=3639153624'\n",
    "data = xmltodict.parse(requests.get(url_resort).content)\n",
    "resorts_array = []\n",
    "for item in data['result']['resorts']['resort']:\n",
    "    res_set = [item['@id'], item['@name'], item['@country']]\n",
    "    resorts_array.append(res_set)\n",
    "    print(res_set)"
   ]
  },
  {
   "cell_type": "markdown",
   "id": "901f0085-0d20-477c-8b20-4b2b1baa3f67",
   "metadata": {},
   "source": [
    "#### Получаем список отелей выбранной страны. Если передан идентификатор города вылета и/или идентификатор курорта в выбранной стране, то список отелей ограничивается теми курортами, в которые возможен вылет из данного города."
   ]
  },
  {
   "cell_type": "code",
   "execution_count": 4,
   "id": "e94b8a00-51cd-4e83-8515-eaeecb3a47f9",
   "metadata": {},
   "outputs": [
    {
     "name": "stdout",
     "output_type": "stream",
     "text": [
      "['4011915717', 'ANDARA RESORT VILLA PHUKET', '5']\n",
      "['4212076980', 'Amala Grand Bleu Resort', '4']\n",
      "['4011524696', 'CHABANA KAMALA HOTEL', '3']\n",
      "['4605996740', 'Cape Sienna Phuket Gourmet Hotel & Villas', '5']\n",
      "['4098604014', 'GLAM HABITAT', '5']\n",
      "['4011924373', 'HYATT REGENCY PHUKET RESORT', '5']\n",
      "['4270801331', 'INTERCONTINENTAL PHUKET RESORT', '5']\n",
      "['4534916077', 'KEEMALA', '5']\n",
      "['4633166705', 'NAMAKA RESORT KAMALA', '4']\n",
      "['4011649784', 'NOVOTEL PHUKET KAMALA BEACH', '4']\n",
      "['4211982987', 'Namaka Resort Kamala', '4']\n",
      "['4011935204', 'PARESA RESORT PHUKET', '5']\n",
      "['4011653950', 'RADISSON RESORT & SUITES (ex-SWISSOTEL SUITES PHUKET KAMALA BEACH)', '4']\n",
      "['4399637887', 'SUNPRIME KAMALA BEACH', '5']\n",
      "['4011650453', 'SUNWING RESORT KAMALA BEACH', '4']\n",
      "['4011936421', 'THAVORN BEACH VILLAGE & SPA', '5']\n",
      "['4011934489', 'THE NAKA PHUKET', '5']\n",
      "['4507395670', 'TWINPALMS MONTAZURE', '5']\n"
     ]
    }
   ],
   "source": [
    "url_hotel = 'http://api.icstrvl.ru/tour-api/getHotels.xml?cnt=3639153624&resort=4011410461&city=538729'\n",
    "data = xmltodict.parse(requests.get(url_hotel).content)\n",
    "# print(data)\n",
    "hotels_array = []\n",
    "for item in data['result']['hotels']['hotel']:\n",
    "    hotel_set = [item['@id'], item['@name'], item['@category']]\n",
    "    hotels_array.append(hotel_set)\n",
    "    print(hotel_set)"
   ]
  },
  {
   "cell_type": "code",
   "execution_count": null,
   "id": "7bd66934-17df-49f9-b798-52e1820bd82d",
   "metadata": {},
   "outputs": [],
   "source": []
  }
 ],
 "metadata": {
  "kernelspec": {
   "display_name": "Python 3 (ipykernel)",
   "language": "python",
   "name": "python3"
  },
  "language_info": {
   "codemirror_mode": {
    "name": "ipython",
    "version": 3
   },
   "file_extension": ".py",
   "mimetype": "text/x-python",
   "name": "python",
   "nbconvert_exporter": "python",
   "pygments_lexer": "ipython3",
   "version": "3.9.6"
  },
  "widgets": {
   "application/vnd.jupyter.widget-state+json": {
    "state": {},
    "version_major": 2,
    "version_minor": 0
   }
  }
 },
 "nbformat": 4,
 "nbformat_minor": 5
}
