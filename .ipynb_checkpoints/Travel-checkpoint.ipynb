{
 "cells": [
  {
   "cell_type": "code",
   "execution_count": 1,
   "id": "a0a44645-e3a0-4335-b322-430cdb8e8dc8",
   "metadata": {},
   "outputs": [
    {
     "name": "stdout",
     "output_type": "stream",
     "text": [
      "['538625', 'Москва']\n",
      "['538993', 'Санкт-Петербург']\n",
      "['537937', 'Владикавказ']\n",
      "['537941', 'Волгоград']\n",
      "['538096', 'Екатеринбург']\n",
      "['538231', 'Казань']\n",
      "['538576', 'Махачкала']\n",
      "['538598', 'Минеральные воды']\n",
      "['538684', 'Нижний Новгород']\n",
      "['538729', 'Новосибирск']\n",
      "['538990', 'Самара']\n",
      "['539093', 'Сочи']\n",
      "['539136', 'Сургут']\n",
      "['539241', 'Тюмень']\n",
      "['539305', 'Уфа']\n",
      "['539321', 'Хабаровск']\n",
      "['539365', 'Челябинск']\n"
     ]
    }
   ],
   "source": [
    "import requests\n",
    "import xmltodict\n",
    "\n",
    "url_city = 'http://api.icstrvl.ru/tour-api/getDepartures.xml'\n",
    "data = xmltodict.parse(requests.get(url_city).content)\n",
    "city_array = []\n",
    "for item in data['result']['cities']['city']:\n",
    "    city_set = [item['@id'], item['@name']] #, item['@category_name']=0]\n",
    "    city_array.append(city_set)\n",
    "    print(city_set)"
   ]
  },
  {
   "cell_type": "code",
   "execution_count": 2,
   "id": "5b3b7ed4-f92f-4bf3-ac22-a48933c57c92",
   "metadata": {},
   "outputs": [
    {
     "name": "stdout",
     "output_type": "stream",
     "text": [
      "['83', 'Сербия', '2999868679']\n",
      "['1', 'Турция', '3077170065']\n"
     ]
    }
   ],
   "source": [
    "url_cnt = 'http://api.icstrvl.ru/tour-api/getCountries.xml?city=538231'\n",
    "data = xmltodict.parse(requests.get(url_cnt).content)\n",
    "cnt_array = []\n",
    "for item in data['result']['countries']['country']:\n",
    "    cnt_set = [item['@position'], item['@name'], item['@id']]\n",
    "    cnt_array.append(cnt_set)\n",
    "    print(cnt_set)\n"
   ]
  },
  {
   "cell_type": "code",
   "execution_count": 3,
   "id": "fd7889a0-bbb4-4de5-9da3-fe47af5911e7",
   "metadata": {},
   "outputs": [
    {
     "name": "stdout",
     "output_type": "stream",
     "text": [
      "['4284761753', 'Всё самое красивое в Сербии', '2999868679']\n",
      "['4608509521', 'Всё свмое вкусное. Казань', '2999868679']\n",
      "['4446363905', 'Западная Сербия с отдыхом в СПА', '2999868679']\n"
     ]
    }
   ],
   "source": [
    "url_resort = 'http://api.icstrvl.ru/tour-api/getResorts.xml?cnt=2999868679&city=538231'\n",
    "data = xmltodict.parse(requests.get(url_resort).content)\n",
    "resorts_array = []\n",
    "for item in data['result']['resorts']['resort']:\n",
    "    res_set = [item['@id'], item['@name'], item['@country']]\n",
    "    resorts_array.append(res_set)\n",
    "    print(res_set)"
   ]
  },
  {
   "cell_type": "code",
   "execution_count": 4,
   "id": "e94b8a00-51cd-4e83-8515-eaeecb3a47f9",
   "metadata": {},
   "outputs": [
    {
     "name": "stdout",
     "output_type": "stream",
     "text": [
      "['4414878148', 'ABBA', '4']\n",
      "['4422107351', 'AMSTERDAM', '4']\n",
      "['4414858904', 'ARGO', '3']\n",
      "['3256786259', 'BALKAN GARNI', '3']\n",
      "['4342434810', 'BANJICA', '2']\n",
      "['4443724121', 'BELA JELA', '4']\n",
      "['3072000469', 'BELGRADE CITY', '4']\n",
      "['4420820747', 'BELGRADE INN', '4']\n",
      "['4583952654', 'BOTANICA', '4']\n",
      "['4583955221', 'CAPITAL', '4']\n",
      "['3036712610', 'CIGOTA (Корпус А)', '0']\n",
      "['4422267945', 'COURTYARD by MARRIOTT', '4']\n",
      "['4583960462', 'ENVOY', '4']\n",
      "['4606587713', 'FONTANA', '4']\n",
      "['4583969829', 'HERITAGE', '4']\n",
      "['3114537370', 'IZVOR', '5']\n",
      "['4177347767', 'JELAK', '3']\n",
      "['4414878567', 'JUMP INN', '4']\n",
      "['4177347781', 'KOPAONIK', '3']\n",
      "['4585091982', 'KOPERNIKUS PRAG', '4']\n",
      "['3256751087', 'MAJESTIC HOTEL', '4']\n",
      "['4414857351', 'MARK', '4']\n",
      "['4583976487', 'MARQUISE', '4']\n",
      "['3247335441', 'MERKUR', '3']\n",
      "['4422290124', 'METROPOL', '5']\n",
      "['3036712608', 'MONA', '4']\n",
      "['4422273238', 'MONA PLAZA', '4']\n",
      "['3973872336', 'MOSKVA', '4']\n",
      "['4414891620', 'MUSEUM', '4']\n",
      "['4585025702', 'Mr.PRESIDENT', '4']\n",
      "['4342436431', 'NISKA BANJA', '0']\n",
      "['4585076594', 'NOBEL', '4']\n",
      "['4420819432', 'OPERA', '4']\n",
      "['4414877784', 'PALACE', '4']\n",
      "['4585778062', 'PALISAD', '4']\n",
      "['4606586502', 'PRESIDENT PALACE', '5']\n",
      "['3440696435', 'QUEENS ASTORIA DESIGN', '4']\n",
      "['4177346814', 'RADAN', '3']\n",
      "['3256801300', 'REX', '3']\n",
      "['4414877597', 'ROYAL INN', '4']\n",
      "['3967587460', 'ROYAL SPA', '4']\n",
      "['4422109395', 'SKY', '4']\n",
      "['4342434838', 'SOKO TERME', '4']\n",
      "['4606590323', 'VRNJACHKA TERME', '4']\n",
      "['3966170490', 'VUJAN', '4']\n",
      "['4415769797', 'Отели', '3']\n",
      "['4579727358', 'Отели', '4']\n",
      "['4608231585', 'Отели по программе', '3']\n",
      "['4608229487', 'Отели по программе', '3']\n",
      "['4354588472', 'Отели по программе', '3']\n",
      "['4608201791', 'Отели по программе', '3']\n",
      "['4446363953', 'Отели по программе', '3']\n",
      "['4284762277', 'Отели по программе', '3']\n",
      "['4608509694', 'Отели по программе', '3']\n",
      "['4446432129', 'Отели по программе', '4']\n",
      "['4608201992', 'Отели по программе', '4']\n",
      "['4608231672', 'Отели по программе', '4']\n",
      "['4608229769', 'Отели по программе', '4']\n",
      "['4356505020', 'Отели по программе', '4']\n",
      "['4608509890', 'Отели по программе', '4']\n",
      "['4445606246', 'Отели по программе', '4']\n",
      "['4467096415', 'Отель', '4']\n"
     ]
    }
   ],
   "source": [
    "url_hotel = 'http://api.icstrvl.ru/tour-api/getHotels.xml?cnt=2999868679'#&city=538231'\n",
    "data = xmltodict.parse(requests.get(url_hotel).content)\n",
    "# print(data)\n",
    "hotels_array = []\n",
    "for item in data['result']['hotels']['hotel']:\n",
    "    hotel_set = [item['@id'], item['@name'], item['@category']]\n",
    "    hotels_array.append(hotel_set)\n",
    "    print(hotel_set)"
   ]
  },
  {
   "cell_type": "code",
   "execution_count": null,
   "id": "7bd66934-17df-49f9-b798-52e1820bd82d",
   "metadata": {},
   "outputs": [],
   "source": []
  }
 ],
 "metadata": {
  "kernelspec": {
   "display_name": "Python 3 (ipykernel)",
   "language": "python",
   "name": "python3"
  },
  "language_info": {
   "codemirror_mode": {
    "name": "ipython",
    "version": 3
   },
   "file_extension": ".py",
   "mimetype": "text/x-python",
   "name": "python",
   "nbconvert_exporter": "python",
   "pygments_lexer": "ipython3",
   "version": "3.9.6"
  },
  "widgets": {
   "application/vnd.jupyter.widget-state+json": {
    "state": {},
    "version_major": 2,
    "version_minor": 0
   }
  }
 },
 "nbformat": 4,
 "nbformat_minor": 5
}
